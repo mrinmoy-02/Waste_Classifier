{
 "cells": [
  {
   "cell_type": "code",
   "execution_count": null,
   "metadata": {
    "colab": {
     "base_uri": "https://localhost:8080/"
    },
    "id": "AWmSH20ySnsE",
    "outputId": "1908b92e-0a0a-4746-e88d-08f42317d0a3"
   },
   "outputs": [
    {
     "name": "stdout",
     "output_type": "stream",
     "text": [
      "Mounted at /content/drive/\n"
     ]
    }
   ],
   "source": [
    "import zipfile\n",
    "from google.colab import drive\n",
    "\n",
    "drive.mount('/content/drive/')\n",
    "\n",
    "zip_ref = zipfile.ZipFile(\"/content/drive/MyDrive/DATASET.zip\", 'r')\n",
    "zip_ref.extractall(\"/tmp\")\n",
    "zip_ref.close()\n",
    "\n",
    "\n"
   ]
  },
  {
   "cell_type": "code",
   "execution_count": 24,
   "metadata": {
    "colab": {
     "base_uri": "https://localhost:8080/",
     "height": 35
    },
    "id": "UQh3PJTzTG-Y",
    "outputId": "530973f2-46ac-4746-9240-2c2c365c4229"
   },
   "outputs": [
    {
     "data": {
      "application/vnd.google.colaboratory.intrinsic+json": {
       "type": "string"
      },
      "text/plain": [
       "'2.3.0'"
      ]
     },
     "execution_count": 24,
     "metadata": {
      "tags": []
     },
     "output_type": "execute_result"
    }
   ],
   "source": [
    "import tensorflow as tf\n",
    "from tensorflow.keras.preprocessing.image import ImageDataGenerator\n",
    "from tensorflow.keras.layers import Dense, Dropout, Flatten, Conv2D, MaxPooling2D, BatchNormalization\n",
    "from tensorflow.keras.models import Sequential\n",
    "from tensorflow.keras.optimizers import SGD, Adam,RMSprop\n",
    "from keras.callbacks import ModelCheckpoint, EarlyStopping\n",
    "from sklearn.metrics import confusion_matrix\n",
    "from sklearn.datasets import load_files\n",
    "import matplotlib.pyplot as plt\n",
    "import tensorflow_hub as hub\n",
    "import numpy as np\n",
    "import os\n",
    "\n",
    "tf.__version__"
   ]
  },
  {
   "cell_type": "markdown",
   "metadata": {
    "id": "FJqP5VFoTJ14"
   },
   "source": [
    "# Data Preprocessing"
   ]
  },
  {
   "cell_type": "code",
   "execution_count": 26,
   "metadata": {
    "colab": {
     "base_uri": "https://localhost:8080/"
    },
    "id": "FIedeOZHTRwA",
    "outputId": "98b07a6b-702e-48b3-88ea-bca205c44a2a"
   },
   "outputs": [
    {
     "name": "stdout",
     "output_type": "stream",
     "text": [
      "Found 22564 images belonging to 2 classes.\n",
      "Found 2513 images belonging to 2 classes.\n"
     ]
    }
   ],
   "source": [
    "base_dir = '/tmp/DATASET/'\n",
    "\n",
    "train_dir = os.path.join(base_dir, 'TRAIN')\n",
    "validation_dir = os.path.join(base_dir, 'TEST')\n",
    "\n",
    "test_datagen = ImageDataGenerator( rescale = 1./255)\n",
    "\n",
    "train_datagen = ImageDataGenerator(rescale = 1./255,\n",
    "                                   rotation_range = 40,\n",
    "                                   width_shift_range = 0.2,\n",
    "                                   height_shift_range = 0.2,\n",
    "                                   shear_range = 0.2,\n",
    "                                   zoom_range = 0.2,\n",
    "                                   horizontal_flip = True,\n",
    "                                   vertical_flip=False,\n",
    "                                   featurewise_center=False,\n",
    "                                   samplewise_center=False, \n",
    "                                   featurewise_std_normalization=False, \n",
    "                                   samplewise_std_normalization=False,  \n",
    "                                   zca_whitening=False)\n",
    "\n",
    "\n",
    "train_generator = train_datagen.flow_from_directory(train_dir,\n",
    "                                                    batch_size = 16,\n",
    "                                                    class_mode = 'binary', \n",
    "                                                    target_size = (160, 160),\n",
    "                                                    seed=24,\n",
    "                                                    color_mode='rgb',\n",
    "                                                    shuffle=True)\n",
    "\n",
    "                                                    \n",
    "validation_generator =  test_datagen.flow_from_directory(validation_dir,\n",
    "                                                          batch_size  = 16,\n",
    "                                                          class_mode  = 'binary', \n",
    "                                                          target_size = (160, 160),\n",
    "                                                          seed=24,\n",
    "                                                          color_mode='rgb',\n",
    "                                                          shuffle=True)\n"
   ]
  },
  {
   "cell_type": "code",
   "execution_count": null,
   "metadata": {
    "colab": {
     "base_uri": "https://localhost:8080/"
    },
    "id": "F6ApW4PzUzlL",
    "outputId": "5405ded2-45f3-4cc6-8c6d-dab2b320a410"
   },
   "outputs": [
    {
     "name": "stdout",
     "output_type": "stream",
     "text": [
      "(256, 1280)\n"
     ]
    }
   ],
   "source": [
    "image_batch, label_batch = next(iter(train_generator))\n",
    "feature_batch = base_model(image_batch)\n",
    "print(feature_batch.shape)"
   ]
  },
  {
   "cell_type": "markdown",
   "metadata": {
    "id": "97RnvjH1U8EW"
   },
   "source": [
    "# Define a model\n",
    "\n"
   ]
  },
  {
   "cell_type": "code",
   "execution_count": 27,
   "metadata": {
    "colab": {
     "base_uri": "https://localhost:8080/"
    },
    "id": "iMqins6XU0Ur",
    "outputId": "985947d2-477b-4fe4-86c5-a4bb73256e1d"
   },
   "outputs": [
    {
     "name": "stdout",
     "output_type": "stream",
     "text": [
      "Downloading data from https://storage.googleapis.com/tensorflow/keras-applications/mobilenet_v2/mobilenet_v2_weights_tf_dim_ordering_tf_kernels_1.0_160_no_top.h5\n",
      "9412608/9406464 [==============================] - 0s 0us/step\n"
     ]
    }
   ],
   "source": [
    "INPUT_SHAPE = (160, 160, 3)\n",
    "\n",
    "base_model = tf.keras.applications.MobileNetV2(\n",
    "    weights='imagenet',  # load weights pretrained on the ImageNet\n",
    "    include_top=False,  # do not include the ImageNet classifier at the top\n",
    "    input_shape=INPUT_SHAPE,\n",
    "    pooling='max'  # add a global max pooling layer after the base model\n",
    "\n",
    ")\n",
    "#base_model.summary()\n"
   ]
  },
  {
   "cell_type": "code",
   "execution_count": 28,
   "metadata": {
    "colab": {
     "base_uri": "https://localhost:8080/"
    },
    "id": "W7C_w5IVVA1A",
    "outputId": "63654bc7-1cef-483b-e4ae-21b39c13d2dc"
   },
   "outputs": [
    {
     "name": "stdout",
     "output_type": "stream",
     "text": [
      "Model: \"sequential_2\"\n",
      "_________________________________________________________________\n",
      "Layer (type)                 Output Shape              Param #   \n",
      "=================================================================\n",
      "mobilenetv2_1.00_160 (Functi (None, 1280)              2257984   \n",
      "_________________________________________________________________\n",
      "dropout_6 (Dropout)          (None, 1280)              0         \n",
      "_________________________________________________________________\n",
      "dense_4 (Dense)              (None, 512)               655872    \n",
      "_________________________________________________________________\n",
      "dropout_7 (Dropout)          (None, 512)               0         \n",
      "_________________________________________________________________\n",
      "dense_5 (Dense)              (None, 256)               131328    \n",
      "_________________________________________________________________\n",
      "dropout_8 (Dropout)          (None, 256)               0         \n",
      "_________________________________________________________________\n",
      "predictions (Dense)          (None, 1)                 257       \n",
      "=================================================================\n",
      "Total params: 3,045,441\n",
      "Trainable params: 787,457\n",
      "Non-trainable params: 2,257,984\n",
      "_________________________________________________________________\n"
     ]
    }
   ],
   "source": [
    "from tensorflow.keras import regularizers\n",
    "base_model.trainable = False\n",
    "\n",
    "#kernel_regularizer=regularizers.l2(0.001)\n",
    "def get_model(mods):\n",
    "\n",
    "    model = tf.keras.Sequential([\n",
    "            mods,\n",
    "            Dropout(0.2),\n",
    "            Dense(512,kernel_regularizer=regularizers.l2(0.001), activation='relu'),\n",
    "            Dropout(0.2),\n",
    "            Dense(256, kernel_regularizer=regularizers.l2(0.001),activation='relu'),\n",
    "            Dropout(0.2),\n",
    "            Dense(1, activation='sigmoid', name='predictions')])\n",
    "\n",
    "    return model\n",
    "\n",
    "model = get_model(base_model)\n",
    "model.summary()"
   ]
  },
  {
   "cell_type": "markdown",
   "metadata": {
    "id": "widnPXZRVEB0"
   },
   "source": [
    "# Compiling and training the model"
   ]
  },
  {
   "cell_type": "code",
   "execution_count": 30,
   "metadata": {
    "colab": {
     "base_uri": "https://localhost:8080/"
    },
    "id": "vcZbGCFoVErr",
    "outputId": "db73526d-5da3-4eed-c18f-ceb03fd979ac"
   },
   "outputs": [
    {
     "name": "stdout",
     "output_type": "stream",
     "text": [
      "WARNING:tensorflow:`period` argument is deprecated. Please use `save_freq` to specify the frequency in number of batches seen.\n",
      "Epoch 1/20\n",
      "1411/1411 [==============================] - ETA: 0s - loss: 0.8874 - accuracy: 0.8853\n",
      "Epoch 00001: val_accuracy improved from -inf to 0.84520, saving model to wastenet.h5\n",
      "1411/1411 [==============================] - 156s 110ms/step - loss: 0.8874 - accuracy: 0.8853 - val_loss: 0.8011 - val_accuracy: 0.8452\n",
      "Epoch 2/20\n",
      "1411/1411 [==============================] - ETA: 0s - loss: 0.7426 - accuracy: 0.8897\n",
      "Epoch 00002: val_accuracy improved from 0.84520 to 0.84918, saving model to wastenet.h5\n",
      "1411/1411 [==============================] - 152s 108ms/step - loss: 0.7426 - accuracy: 0.8897 - val_loss: 0.7128 - val_accuracy: 0.8492\n",
      "Epoch 3/20\n",
      "1411/1411 [==============================] - ETA: 0s - loss: 0.6758 - accuracy: 0.8963\n",
      "Epoch 00003: val_accuracy improved from 0.84918 to 0.85157, saving model to wastenet.h5\n",
      "1411/1411 [==============================] - 154s 109ms/step - loss: 0.6758 - accuracy: 0.8963 - val_loss: 0.6629 - val_accuracy: 0.8516\n",
      "Epoch 4/20\n",
      "1411/1411 [==============================] - ETA: 0s - loss: 0.6396 - accuracy: 0.8965\n",
      "Epoch 00004: val_accuracy improved from 0.85157 to 0.88739, saving model to wastenet.h5\n",
      "1411/1411 [==============================] - 154s 109ms/step - loss: 0.6396 - accuracy: 0.8965 - val_loss: 0.6253 - val_accuracy: 0.8874\n",
      "Epoch 5/20\n",
      "1411/1411 [==============================] - ETA: 0s - loss: 0.6166 - accuracy: 0.9029\n",
      "Epoch 00005: val_accuracy improved from 0.88739 to 0.89176, saving model to wastenet.h5\n",
      "1411/1411 [==============================] - 154s 109ms/step - loss: 0.6166 - accuracy: 0.9029 - val_loss: 0.6084 - val_accuracy: 0.8918\n",
      "Epoch 6/20\n",
      "1411/1411 [==============================] - ETA: 0s - loss: 0.6043 - accuracy: 0.9050\n",
      "Epoch 00006: val_accuracy did not improve from 0.89176\n",
      "1411/1411 [==============================] - 159s 113ms/step - loss: 0.6043 - accuracy: 0.9050 - val_loss: 0.6077 - val_accuracy: 0.8659\n",
      "Epoch 7/20\n",
      "1411/1411 [==============================] - ETA: 0s - loss: 0.5965 - accuracy: 0.9044\n",
      "Epoch 00007: val_accuracy improved from 0.89176 to 0.90569, saving model to wastenet.h5\n",
      "1411/1411 [==============================] - 156s 111ms/step - loss: 0.5965 - accuracy: 0.9044 - val_loss: 0.5901 - val_accuracy: 0.9057\n",
      "Epoch 8/20\n",
      "1411/1411 [==============================] - ETA: 0s - loss: 0.5900 - accuracy: 0.9071\n",
      "Epoch 00008: val_accuracy did not improve from 0.90569\n",
      "1411/1411 [==============================] - 153s 109ms/step - loss: 0.5900 - accuracy: 0.9071 - val_loss: 0.6164 - val_accuracy: 0.8126\n",
      "Epoch 9/20\n",
      "1411/1411 [==============================] - ETA: 0s - loss: 0.5862 - accuracy: 0.9078\n",
      "Epoch 00009: val_accuracy did not improve from 0.90569\n",
      "1411/1411 [==============================] - 153s 108ms/step - loss: 0.5862 - accuracy: 0.9078 - val_loss: 0.6305 - val_accuracy: 0.7577\n",
      "Epoch 10/20\n",
      "1411/1411 [==============================] - ETA: 0s - loss: 0.5819 - accuracy: 0.9116\n",
      "Epoch 00010: val_accuracy did not improve from 0.90569\n",
      "1411/1411 [==============================] - 149s 106ms/step - loss: 0.5819 - accuracy: 0.9116 - val_loss: 0.5919 - val_accuracy: 0.8735\n",
      "Epoch 11/20\n",
      "1411/1411 [==============================] - ETA: 0s - loss: 0.5794 - accuracy: 0.9143\n",
      "Epoch 00011: val_accuracy did not improve from 0.90569\n",
      "1411/1411 [==============================] - 148s 105ms/step - loss: 0.5794 - accuracy: 0.9143 - val_loss: 0.5849 - val_accuracy: 0.8870\n",
      "Epoch 12/20\n",
      "1411/1411 [==============================] - ETA: 0s - loss: 0.5787 - accuracy: 0.9126\n",
      "Epoch 00012: val_accuracy did not improve from 0.90569\n",
      "1411/1411 [==============================] - 147s 104ms/step - loss: 0.5787 - accuracy: 0.9126 - val_loss: 0.5964 - val_accuracy: 0.8528\n",
      "Epoch 13/20\n",
      "1411/1411 [==============================] - ETA: 0s - loss: 0.5763 - accuracy: 0.9168\n",
      "Epoch 00013: val_accuracy did not improve from 0.90569\n",
      "1411/1411 [==============================] - 148s 105ms/step - loss: 0.5763 - accuracy: 0.9168 - val_loss: 0.6099 - val_accuracy: 0.8042\n",
      "Epoch 14/20\n",
      "1411/1411 [==============================] - ETA: 0s - loss: 0.5761 - accuracy: 0.9160\n",
      "Epoch 00014: val_accuracy did not improve from 0.90569\n",
      "1411/1411 [==============================] - 148s 105ms/step - loss: 0.5761 - accuracy: 0.9160 - val_loss: 0.5889 - val_accuracy: 0.8699\n",
      "Epoch 15/20\n",
      "1411/1411 [==============================] - ETA: 0s - loss: 0.5739 - accuracy: 0.9197\n",
      "Epoch 00015: val_accuracy did not improve from 0.90569\n",
      "1411/1411 [==============================] - 148s 105ms/step - loss: 0.5739 - accuracy: 0.9197 - val_loss: 0.5925 - val_accuracy: 0.8579\n"
     ]
    }
   ],
   "source": [
    "def train_model(model, train_gen, validation_gen, epochs):\n",
    "\n",
    "    base_learning_rate = 0.0001\n",
    "    model.compile(optimizer=Adam(\n",
    "    lr=base_learning_rate),                                                                                                                                                                                                                                                                                                                                                                                                                                                                                                                                                                                                                                                                                                                                                                                                                           \n",
    "    loss=tf.keras.losses.BinaryCrossentropy(from_logits=True),\n",
    "    metrics = ['accuracy'])\n",
    "\n",
    "    checkpoint = ModelCheckpoint('wastenet.h5', monitor='val_accuracy',save_best_only=True,\n",
    "                             verbose=1,\n",
    "                             mode='auto',\n",
    "                             save_weights_only=False,\n",
    "                             period=1)                                                 \n",
    "    earlystopping = EarlyStopping(monitor='val_accuracy', patience=8, min_delta=0, restore_best_weights=True)\n",
    "    history = model.fit(train_gen, validation_data=validation_gen, epochs = epochs, verbose=1, callbacks=[earlystopping,checkpoint])\n",
    "\n",
    "    return history\n",
    "\n",
    "history = train_model(model, train_generator, validation_generator, epochs=20)"
   ]
  },
  {
   "cell_type": "markdown",
   "metadata": {
    "id": "MzAgLPSeVSwv"
   },
   "source": [
    "# Plotting the learning curves"
   ]
  },
  {
   "cell_type": "code",
   "execution_count": 31,
   "metadata": {
    "colab": {
     "base_uri": "https://localhost:8080/",
     "height": 590
    },
    "id": "Oqf6wPlUVVnh",
    "outputId": "73b20a52-16d7-4a72-ccc1-96a902de9253"
   },
   "outputs": [
    {
     "data": {
      "text/plain": [
       "<matplotlib.legend.Legend at 0x7ff9d6796a58>"
      ]
     },
     "execution_count": 31,
     "metadata": {
      "tags": []
     },
     "output_type": "execute_result"
    },
    {
     "data": {
      "image/png": "[encoded data removed]",
      "text/plain": [
       "<Figure size 432x288 with 1 Axes>"
      ]
     },
     "metadata": {
      "needs_background": "light",
      "tags": []
     },
     "output_type": "display_data"
    },
    {
     "data": {
      "image/png": "[encoded data removed]",
      "text/plain": [
       "<Figure size 432x288 with 1 Axes>"
      ]
     },
     "metadata": {
      "needs_background": "light",
      "tags": []
     },
     "output_type": "display_data"
    }
   ],
   "source": [
    "#-----------------------------------------------------------\n",
    "# Retrieve a list of list results on training and test data\n",
    "# sets for each training epoch\n",
    "#-----------------------------------------------------------\n",
    "acc      = history.history[     'accuracy' ]\n",
    "val_acc  = history.history[ 'val_accuracy' ]\n",
    "loss     = history.history[    'loss' ]\n",
    "val_loss = history.history['val_loss' ]\n",
    "\n",
    "epochs   = range(len(acc)) # Get number of epochs\n",
    "\n",
    "#------------------------------------------------\n",
    "# Plot training and validation accuracy per epoch\n",
    "#------------------------------------------------\n",
    "plt.plot  ( epochs,     acc )\n",
    "plt.plot  ( epochs, val_acc )\n",
    "plt.title ('Training and validation accuracy')\n",
    "plt.xlabel('Epoch')\n",
    "plt.ylabel('Accuracy')\n",
    "plt.legend(['Train', 'Validate'], loc='lower right')\n",
    "plt.figure()\n",
    "\n",
    "#------------------------------------------------\n",
    "# Plot training and validation loss per epoch\n",
    "#------------------------------------------------\n",
    "plt.plot  ( epochs,     loss )\n",
    "plt.plot  ( epochs, val_loss )\n",
    "plt.title ('Training and validation loss'   )\n",
    "plt.xlabel('Epoch')\n",
    "plt.ylabel('Loss')\n",
    "plt.legend(['Train', 'Validate'], loc='upper right')"
   ]
  },
  {
   "cell_type": "markdown",
   "metadata": {
    "id": "wUJPv2ISVYx5"
   },
   "source": [
    "# Fine Tuning"
   ]
  },
  {
   "cell_type": "code",
   "execution_count": 32,
   "metadata": {
    "colab": {
     "base_uri": "https://localhost:8080/"
    },
    "id": "xHdbIXvKVXu_",
    "outputId": "ff26141b-8881-4675-dd2f-04bdd91cfea4"
   },
   "outputs": [
    {
     "name": "stdout",
     "output_type": "stream",
     "text": [
      "Model: \"sequential_2\"\n",
      "_________________________________________________________________\n",
      "Layer (type)                 Output Shape              Param #   \n",
      "=================================================================\n",
      "mobilenetv2_1.00_160 (Functi (None, 1280)              2257984   \n",
      "_________________________________________________________________\n",
      "dropout_6 (Dropout)          (None, 1280)              0         \n",
      "_________________________________________________________________\n",
      "dense_4 (Dense)              (None, 512)               655872    \n",
      "_________________________________________________________________\n",
      "dropout_7 (Dropout)          (None, 512)               0         \n",
      "_________________________________________________________________\n",
      "dense_5 (Dense)              (None, 256)               131328    \n",
      "_________________________________________________________________\n",
      "dropout_8 (Dropout)          (None, 256)               0         \n",
      "_________________________________________________________________\n",
      "predictions (Dense)          (None, 1)                 257       \n",
      "=================================================================\n",
      "Total params: 3,045,441\n",
      "Trainable params: 3,011,329\n",
      "Non-trainable params: 34,112\n",
      "_________________________________________________________________\n"
     ]
    }
   ],
   "source": [
    "base_model.trainable = True\n",
    "\n",
    "model.summary()"
   ]
  },
  {
   "cell_type": "code",
   "execution_count": 33,
   "metadata": {
    "id": "8Px21xtcVcQ8"
   },
   "outputs": [],
   "source": [
    "fine_tune_at = 100\n",
    "\n",
    "# Freeze all the layers before the `fine_tune_at` layer\n",
    "for layer in base_model.layers[:fine_tune_at]:\n",
    "  layer.trainable =  False"
   ]
  },
  {
   "cell_type": "code",
   "execution_count": 34,
   "metadata": {
    "colab": {
     "base_uri": "https://localhost:8080/"
    },
    "id": "PqyjVcMUVdVA",
    "outputId": "6eb771d0-0cdd-4a43-8200-942d00263b70"
   },
   "outputs": [
    {
     "name": "stdout",
     "output_type": "stream",
     "text": [
      "WARNING:tensorflow:`period` argument is deprecated. Please use `save_freq` to specify the frequency in number of batches seen.\n",
      "Epoch 15/40\n",
      "1411/1411 [==============================] - ETA: 0s - loss: 0.6053 - accuracy: 0.8777\n",
      "Epoch 00015: val_accuracy improved from -inf to 0.90688, saving model to wastenet_tune.h5\n",
      "1411/1411 [==============================] - 158s 112ms/step - loss: 0.6053 - accuracy: 0.8777 - val_loss: 0.5878 - val_accuracy: 0.9069\n",
      "Epoch 16/40\n",
      "1411/1411 [==============================] - ETA: 0s - loss: 0.5985 - accuracy: 0.8896\n",
      "Epoch 00016: val_accuracy did not improve from 0.90688\n",
      "1411/1411 [==============================] - 157s 111ms/step - loss: 0.5985 - accuracy: 0.8896 - val_loss: 0.5899 - val_accuracy: 0.8953\n",
      "Epoch 17/40\n",
      "1411/1411 [==============================] - ETA: 0s - loss: 0.5949 - accuracy: 0.8957\n",
      "Epoch 00017: val_accuracy improved from 0.90688 to 0.92439, saving model to wastenet_tune.h5\n",
      "1411/1411 [==============================] - 157s 112ms/step - loss: 0.5949 - accuracy: 0.8957 - val_loss: 0.5799 - val_accuracy: 0.9244\n",
      "Epoch 18/40\n",
      "1411/1411 [==============================] - ETA: 0s - loss: 0.5926 - accuracy: 0.9001\n",
      "Epoch 00018: val_accuracy did not improve from 0.92439\n",
      "1411/1411 [==============================] - 157s 111ms/step - loss: 0.5926 - accuracy: 0.9001 - val_loss: 0.5789 - val_accuracy: 0.9236\n",
      "Epoch 19/40\n",
      "1411/1411 [==============================] - ETA: 0s - loss: 0.5908 - accuracy: 0.9029\n",
      "Epoch 00019: val_accuracy did not improve from 0.92439\n",
      "1411/1411 [==============================] - 161s 114ms/step - loss: 0.5908 - accuracy: 0.9029 - val_loss: 0.5802 - val_accuracy: 0.9156\n",
      "Epoch 20/40\n",
      "1411/1411 [==============================] - ETA: 0s - loss: 0.5906 - accuracy: 0.9028\n",
      "Epoch 00020: val_accuracy improved from 0.92439 to 0.92996, saving model to wastenet_tune.h5\n",
      "1411/1411 [==============================] - 165s 117ms/step - loss: 0.5906 - accuracy: 0.9028 - val_loss: 0.5763 - val_accuracy: 0.9300\n",
      "Epoch 21/40\n",
      "1411/1411 [==============================] - ETA: 0s - loss: 0.5880 - accuracy: 0.9065\n",
      "Epoch 00021: val_accuracy did not improve from 0.92996\n",
      "1411/1411 [==============================] - 164s 117ms/step - loss: 0.5880 - accuracy: 0.9065 - val_loss: 0.5761 - val_accuracy: 0.9276\n",
      "Epoch 22/40\n",
      "1411/1411 [==============================] - ETA: 0s - loss: 0.5862 - accuracy: 0.9095\n",
      "Epoch 00022: val_accuracy did not improve from 0.92996\n",
      "1411/1411 [==============================] - 164s 116ms/step - loss: 0.5862 - accuracy: 0.9095 - val_loss: 0.5755 - val_accuracy: 0.9292\n",
      "Epoch 23/40\n",
      "1411/1411 [==============================] - ETA: 0s - loss: 0.5849 - accuracy: 0.9114\n",
      "Epoch 00023: val_accuracy did not improve from 0.92996\n",
      "1411/1411 [==============================] - 165s 117ms/step - loss: 0.5849 - accuracy: 0.9114 - val_loss: 0.5755 - val_accuracy: 0.9272\n",
      "Epoch 24/40\n",
      "1411/1411 [==============================] - ETA: 0s - loss: 0.5836 - accuracy: 0.9145\n",
      "Epoch 00024: val_accuracy did not improve from 0.92996\n",
      "1411/1411 [==============================] - 166s 118ms/step - loss: 0.5836 - accuracy: 0.9145 - val_loss: 0.5746 - val_accuracy: 0.9288\n"
     ]
    }
   ],
   "source": [
    "def fine_tuning(model, train_gen, validation_gen, epochs, initial):\n",
    "\n",
    "    base_learning_rate = 0.0001\n",
    "    model.compile(optimizer=RMSprop(\n",
    "    lr=base_learning_rate/20),                                                                                                                                                                                                                                                                                                                                                                                                                                                                                                                                                                                                                                                                                                                                                                                                                           \n",
    "    loss=tf.keras.losses.BinaryCrossentropy(from_logits=True),\n",
    "    metrics = ['accuracy'])\n",
    "    \n",
    "    checkpoint = ModelCheckpoint('wastenet_tune.h5', monitor='val_accuracy',save_best_only=True,\n",
    "                             verbose=1,\n",
    "                             mode='auto',\n",
    "                             save_weights_only=False,\n",
    "                             period=1)                                                 \n",
    "    earlystopping = EarlyStopping(monitor='val_accuracy', patience=10, min_delta=0, restore_best_weights=True)\n",
    "    history = model.fit(train_gen, validation_data=validation_gen, epochs = epochs, initial_epoch=initial,verbose=1, callbacks=[earlystopping,checkpoint])\n",
    "    return history\n",
    "\n",
    "history = fine_tuning(model, train_generator, validation_generator, epochs=40, initial=history.epoch[-1])"
   ]
  },
  {
   "cell_type": "code",
   "execution_count": 35,
   "metadata": {
    "colab": {
     "base_uri": "https://localhost:8080/",
     "height": 590
    },
    "id": "XrYV5NgoVgfe",
    "outputId": "81a0d55f-557e-4f92-bc1e-40cd2e5b0e93"
   },
   "outputs": [
    {
     "data": {
      "text/plain": [
       "<matplotlib.legend.Legend at 0x7ff643ae45f8>"
      ]
     },
     "execution_count": 35,
     "metadata": {
      "tags": []
     },
     "output_type": "execute_result"
    },
    {
     "data": {
      "image/png": "[encoded data removed]",
      "text/plain": [
       "<Figure size 432x288 with 1 Axes>"
      ]
     },
     "metadata": {
      "needs_background": "light",
      "tags": []
     },
     "output_type": "display_data"
    },
    {
     "data": {
      "image/png": "[encoded data removed]",
      "text/plain": [
       "<Figure size 432x288 with 1 Axes>"
      ]
     },
     "metadata": {
      "needs_background": "light",
      "tags": []
     },
     "output_type": "display_data"
    }
   ],
   "source": [
    "#-----------------------------------------------------------\n",
    "# Retrieve a list of list results on training and test data\n",
    "# sets for each training epoch\n",
    "#-----------------------------------------------------------\n",
    "acc      = history.history[     'accuracy' ]\n",
    "val_acc  = history.history[ 'val_accuracy' ]\n",
    "loss     = history.history[    'loss' ]\n",
    "val_loss = history.history['val_loss' ]\n",
    "\n",
    "epochs   = range(len(acc)) # Get number of epochs\n",
    "\n",
    "#------------------------------------------------\n",
    "# Plot training and validation accuracy per epoch\n",
    "#------------------------------------------------\n",
    "plt.plot  ( epochs,     acc )\n",
    "plt.plot  ( epochs, val_acc )\n",
    "plt.title ('Training and validation accuracy')\n",
    "plt.xlabel('Epoch')\n",
    "plt.ylabel('Accuracy')\n",
    "plt.legend(['Train', 'Validate'], loc='lower right')\n",
    "plt.figure()\n",
    "\n",
    "#------------------------------------------------\n",
    "# Plot training and validation loss per epoch\n",
    "#------------------------------------------------\n",
    "plt.plot  ( epochs,     loss )\n",
    "plt.plot  ( epochs, val_loss )\n",
    "plt.title ('Training and validation loss'   )\n",
    "plt.xlabel('Epoch')\n",
    "plt.ylabel('Loss')\n",
    "plt.legend(['Train', 'Validate'], loc='upper right')"
   ]
  },
  {
   "cell_type": "markdown",
   "metadata": {
    "id": "9qKMC9fNVh1N"
   },
   "source": [
    "# Saving the model"
   ]
  },
  {
   "cell_type": "code",
   "execution_count": null,
   "metadata": {
    "id": "5rcWf0twVkCr"
   },
   "outputs": [],
   "source": [
    "import pathlib\n",
    "model = tf.keras.models.load_model('/content/wastenet_tune.h5')\n",
    "\n",
    "# Convert the model.\n",
    "converter = tf.lite.TFLiteConverter.from_keras_model(model)\n",
    "tflite_model = converter.convert()\n",
    "\n",
    "# Save the model\n",
    "tflite_model_file = pathlib.Path('/tmp/wastenet.tflite')\n",
    "tflite_model_file.write_bytes(tflite_model)"
   ]
  }
 ],
 "metadata": {
  "accelerator": "GPU",
  "colab": {
   "name": "E-SegWaste.ipynb",
   "provenance": []
  },
  "kernelspec": {
   "display_name": "Python 3",
   "language": "python",
   "name": "python3"
  },
  "language_info": {
   "codemirror_mode": {
    "name": "ipython",
    "version": 3
   },
   "file_extension": ".py",
   "mimetype": "text/x-python",
   "name": "python",
   "nbconvert_exporter": "python",
   "pygments_lexer": "ipython3",
   "version": "3.8.5"
  }
 },
 "nbformat": 4,
 "nbformat_minor": 1
}
